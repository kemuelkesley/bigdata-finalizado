{
 "cells": [
  {
   "cell_type": "code",
   "execution_count": null,
   "metadata": {},
   "outputs": [],
   "source": [
    "from pyspark.sql import SparkSession"
   ]
  },
  {
   "cell_type": "code",
   "execution_count": null,
   "metadata": {},
   "outputs": [],
   "source": [
    "spark = SparkSession.builder \\\n",
    "    .appName(\"ConexaoSQLServer\") \\\n",
    "    .config(\"spark.driver.extraClassPath\", \"/caminho/para/o/driver/mssql-jdbc-driver.jar\") \\\n",
    "    .getOrCreate()\n",
    "\n",
    "jdbcHostname = \"seuserver.database.windows.net\"\n",
    "jdbcPort = 1433\n",
    "jdbcDatabase = \"seu_banco_de_dados\"\n",
    "jdbcUrl = f\"jdbc:sqlserver://{jdbcHostname}:{jdbcPort};database={jdbcDatabase}\"\n",
    "jdbcUsername = \"seu_usuario\"\n",
    "jdbcPassword = \"sua_senha\""
   ]
  },
  {
   "cell_type": "code",
   "execution_count": null,
   "metadata": {},
   "outputs": [],
   "source": [
    "\n",
    "# Opções de conexão\n",
    "jdbcDF = spark.read \\\n",
    "    .format(\"jdbc\") \\\n",
    "    .option(\"url\", jdbcUrl) \\\n",
    "    .option(\"dbtable\", \"sua_tabela\") \\\n",
    "    .option(\"user\", jdbcUsername) \\\n",
    "    .option(\"password\", jdbcPassword) \\\n",
    "    .load()\n",
    "\n",
    "jdbcDF.show()"
   ]
  }
 ],
 "metadata": {
  "language_info": {
   "name": "python"
  }
 },
 "nbformat": 4,
 "nbformat_minor": 2
}
